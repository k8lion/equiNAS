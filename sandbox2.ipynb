{
 "cells": [
  {
   "cell_type": "code",
   "execution_count": 1,
   "metadata": {},
   "outputs": [
    {
     "data": {
      "text/plain": [
       "<module 'models' from '/home/kaitlin/repos/equiNAS/models.py'>"
      ]
     },
     "execution_count": 1,
     "metadata": {},
     "output_type": "execute_result"
    }
   ],
   "source": [
    "import utilities\n",
    "import models\n",
    "import torch\n",
    "import importlib\n",
    "importlib.reload(models)\n",
    "#importlib.reload(escnn)\n"
   ]
  },
  {
   "cell_type": "code",
   "execution_count": 32,
   "metadata": {},
   "outputs": [],
   "source": [
    "model = models.TDEquiCNN(gs = [(1,3) for _ in range(2)]+[(1,2) for _ in range(4)])\n"
   ]
  },
  {
   "cell_type": "code",
   "execution_count": 43,
   "metadata": {},
   "outputs": [
    {
     "name": "stdout",
     "output_type": "stream",
     "text": [
      "<class 'escnn.nn.modules.conv.r2convolution.R2Conv'>\n",
      "8\n",
      "torch.Size([11264])\n",
      "torch.Size([128, 128, 5, 5])\n",
      "<bound method GSpace.build_kernel_basis of D8_on_R2[(3.141592653589793, 8)]>\n",
      "D8_on_R2[(3.141592653589793, 8)]\n",
      "1\n",
      "training True\n",
      "_parameters OrderedDict()\n",
      "_buffers OrderedDict()\n",
      "_non_persistent_buffers_set set()\n",
      "_backward_hooks OrderedDict()\n",
      "_is_full_backward_hook None\n",
      "_forward_hooks OrderedDict()\n",
      "_forward_pre_hooks OrderedDict()\n",
      "_state_dict_hooks OrderedDict()\n",
      "_load_state_dict_pre_hooks OrderedDict()\n",
      "_modules OrderedDict([(\"block_expansion_('regular', 'regular')\", SingleBlockBasisExpansion())])\n",
      "_in_reprs [D8|[regular]:16, D8|[regular]:16, D8|[regular]:16, D8|[regular]:16, D8|[regular]:16, D8|[regular]:16, D8|[regular]:16, D8|[regular]:16]\n",
      "_out_reprs [D8|[regular]:16, D8|[regular]:16, D8|[regular]:16, D8|[regular]:16, D8|[regular]:16, D8|[regular]:16, D8|[regular]:16, D8|[regular]:16]\n",
      "_input_size 128\n",
      "_output_size 128\n",
      "points [[-2. -1.  0.  1.  2. -2. -1.  0.  1.  2. -2. -1.  0.  1.  2. -2. -1.  0.\n",
      "   1.  2. -2. -1.  0.  1.  2.]\n",
      " [ 2.  2.  2.  2.  2.  1.  1.  1.  1.  1. -0. -0. -0. -0. -0. -1. -1. -1.\n",
      "  -1. -1. -2. -2. -2. -2. -2.]]\n",
      "S 25\n",
      "_representations_pairs [('regular', 'regular')]\n",
      "_n_pairs 1\n",
      "_in_count defaultdict(<class 'int'>, {'regular': 8})\n",
      "_out_count defaultdict(<class 'int'>, {'regular': 8})\n",
      "_weights_ranges {('regular', 'regular'): (0, 11264)}\n",
      "_contiguous {('regular', 'regular'): True}\n",
      "in_indices_('regular', 'regular') [tensor(0), tensor(128), tensor(128)]\n",
      "out_indices_('regular', 'regular') [tensor(0), tensor(128), tensor(128)]\n",
      "_dim 11264\n"
     ]
    }
   ],
   "source": [
    "print(type(model.blocks[0]._modules['0']))\n",
    "for i in range(1,2):\n",
    "    print(len(model.blocks[i]._modules['0'].in_type.representations))\n",
    "    print(model.blocks[i]._modules['0'].weights.shape)\n",
    "    print(model.blocks[i]._modules['0'].filter.shape)\n",
    "    print(model.blocks[i]._modules['0'].space.build_kernel_basis)\n",
    "    print(model.blocks[i]._modules['0'].space)\n",
    "    print(model.blocks[i]._modules['0'].basisexpansion._n_pairs)\n",
    "    for key, value in model.blocks[i]._modules['0'].basisexpansion.__dict__.items():\n",
    "        print(key, value)\n",
    "    #print(getattr(model.blocks[i]._modules['0'].basisexpansion, \"out_indices_('regular', 'regular')\"))\n"
   ]
  },
  {
   "cell_type": "code",
   "execution_count": 37,
   "metadata": {},
   "outputs": [
    {
     "data": {
      "text/plain": [
       "tensor([[ 0.5413, -0.1534, -0.4405,  0.6337, -0.5429,  0.7636, -0.3445,  1.0023,\n",
       "         -0.0882, -0.2319],\n",
       "        [-0.1932,  0.4594,  0.6599, -0.3193,  0.2874, -0.9569,  0.4328, -0.7026,\n",
       "          0.1392,  0.3315]], grad_fn=<AddmmBackward0>)"
      ]
     },
     "execution_count": 37,
     "metadata": {},
     "output_type": "execute_result"
    }
   ],
   "source": [
    "model(torch.randn(2,1,29,29))"
   ]
  },
  {
   "cell_type": "code",
   "execution_count": null,
   "metadata": {},
   "outputs": [],
   "source": [
    "train_loader, validation_loader, test_loader = utilities.get_dataloaders(path_to_dir=\"..\")\n"
   ]
  },
  {
   "cell_type": "code",
   "execution_count": 2,
   "metadata": {},
   "outputs": [],
   "source": [
    "model = models.TDRegEquiCNN(gs = [(0,2) for _ in range(6)]+[(0,0) for _ in range(0)])\n"
   ]
  }
 ],
 "metadata": {
  "interpreter": {
   "hash": "767d51c1340bd893661ea55ea3124f6de3c7a262a8b4abca0554b478b1e2ff90"
  },
  "kernelspec": {
   "display_name": "Python 3.10.4 64-bit",
   "language": "python",
   "name": "python3"
  },
  "language_info": {
   "codemirror_mode": {
    "name": "ipython",
    "version": 3
   },
   "file_extension": ".py",
   "mimetype": "text/x-python",
   "name": "python",
   "nbconvert_exporter": "python",
   "pygments_lexer": "ipython3",
   "version": "3.10.5"
  },
  "orig_nbformat": 4
 },
 "nbformat": 4,
 "nbformat_minor": 2
}
