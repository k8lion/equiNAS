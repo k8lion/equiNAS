{
 "cells": [
  {
   "cell_type": "code",
   "execution_count": 36,
   "metadata": {},
   "outputs": [
    {
     "data": {
      "text/plain": [
       "<module 'escnn' from '/home/kaitlin/.local/lib/python3.10/site-packages/escnn/__init__.py'>"
      ]
     },
     "execution_count": 36,
     "metadata": {},
     "output_type": "execute_result"
    }
   ],
   "source": [
    "import utilities\n",
    "import models\n",
    "import torch\n",
    "import importlib\n",
    "importlib.reload(models)\n",
    "importlib.reload(escnn)\n"
   ]
  },
  {
   "cell_type": "code",
   "execution_count": 37,
   "metadata": {},
   "outputs": [],
   "source": [
    "model = models.TDEquiCNN(gs = [(1,3) for _ in range(6)])\n"
   ]
  },
  {
   "cell_type": "code",
   "execution_count": 44,
   "metadata": {},
   "outputs": [
    {
     "name": "stdout",
     "output_type": "stream",
     "text": [
      "<class 'escnn.nn.modules.conv.r2convolution.R2Conv'>\n",
      "[D8|[regular]:16, D8|[regular]:16, D8|[regular]:16, D8|[regular]:16, D8|[regular]:16, D8|[regular]:16, D8|[regular]:16, D8|[regular]:16, D8|[regular]:16, D8|[regular]:16, D8|[regular]:16, D8|[regular]:16]\n",
      "torch.Size([50688])\n",
      "torch.Size([384, 192, 5, 5])\n",
      "[D8|[regular]:16, D8|[regular]:16, D8|[regular]:16, D8|[regular]:16, D8|[regular]:16, D8|[regular]:16, D8|[regular]:16, D8|[regular]:16, D8|[regular]:16, D8|[regular]:16, D8|[regular]:16, D8|[regular]:16, D8|[regular]:16, D8|[regular]:16, D8|[regular]:16, D8|[regular]:16, D8|[regular]:16, D8|[regular]:16, D8|[regular]:16, D8|[regular]:16, D8|[regular]:16, D8|[regular]:16, D8|[regular]:16, D8|[regular]:16]\n",
      "D8_on_R2[(3.141592653589793, 8)]\n"
     ]
    }
   ],
   "source": [
    "print(type(model.blocks[0]._modules['0']))\n",
    "print(model.blocks[3]._modules['0'].in_type.representations)\n",
    "print(model.blocks[3]._modules['0'].weights.shape)\n",
    "print(model.blocks[3]._modules['0'].filter.shape)\n",
    "print(model.blocks[3]._modules['0'].out_type.representations)\n",
    "print(model.blocks[3]._modules['0'].space)"
   ]
  },
  {
   "cell_type": "code",
   "execution_count": 39,
   "metadata": {},
   "outputs": [
    {
     "data": {
      "text/plain": [
       "tensor([[-0.2445,  0.9423,  0.0637, -0.1766, -0.6377,  0.0975, -1.0425, -0.2904,\n",
       "         -0.4569,  0.6355],\n",
       "        [-0.2518, -0.6852,  0.2180, -0.3925,  0.1828, -0.0027,  0.9102,  0.3830,\n",
       "          0.3800, -0.3249]], grad_fn=<AddmmBackward0>)"
      ]
     },
     "execution_count": 39,
     "metadata": {},
     "output_type": "execute_result"
    }
   ],
   "source": [
    "model(torch.randn(2,1,29,29))"
   ]
  },
  {
   "cell_type": "code",
   "execution_count": null,
   "metadata": {},
   "outputs": [],
   "source": []
  }
 ],
 "metadata": {
  "interpreter": {
   "hash": "767d51c1340bd893661ea55ea3124f6de3c7a262a8b4abca0554b478b1e2ff90"
  },
  "kernelspec": {
   "display_name": "Python 3.10.4 64-bit",
   "language": "python",
   "name": "python3"
  },
  "language_info": {
   "codemirror_mode": {
    "name": "ipython",
    "version": 3
   },
   "file_extension": ".py",
   "mimetype": "text/x-python",
   "name": "python",
   "nbconvert_exporter": "python",
   "pygments_lexer": "ipython3",
   "version": "3.10.4"
  },
  "orig_nbformat": 4
 },
 "nbformat": 4,
 "nbformat_minor": 2
}
